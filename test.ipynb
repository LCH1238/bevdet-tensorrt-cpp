{
 "cells": [
  {
   "cell_type": "code",
   "execution_count": 5,
   "metadata": {},
   "outputs": [],
   "source": [
    "import torch"
   ]
  },
  {
   "cell_type": "code",
   "execution_count": 6,
   "metadata": {},
   "outputs": [],
   "source": [
    "def create_frustum(depth_cfg, input_size, downsample):\n",
    "    \"\"\"Generate the frustum template for each image.\n",
    "\n",
    "    Args:\n",
    "        depth_cfg (tuple(float)): Config of grid alone depth axis in format\n",
    "            of (lower_bound, upper_bound, interval).\n",
    "        input_size (tuple(int)): Size of input images in format of (height,\n",
    "            width).\n",
    "        downsample (int): Down sample scale factor from the input size to\n",
    "            the feature size.\n",
    "    \"\"\"\n",
    "    H_in, W_in = input_size\n",
    "    H_feat, W_feat = H_in // downsample, W_in // downsample\n",
    "    d = torch.arange(*depth_cfg, dtype=torch.float)\\\n",
    "        .view(-1, 1, 1).expand(-1, H_feat, W_feat)\n",
    "    D = d.shape[0]\n",
    "    x = torch.linspace(0, W_in - 1, W_feat,  dtype=torch.float)\\\n",
    "        .view(1, 1, W_feat).expand(D, H_feat, W_feat)\n",
    "    y = torch.linspace(0, H_in - 1, H_feat,  dtype=torch.float)\\\n",
    "        .view(1, H_feat, 1).expand(D, H_feat, W_feat)\n",
    "\n",
    "    # D x H x W x 3\n",
    "    frustum = torch.stack((x, y, d), -1)  #frustum[k,v_f,u_f]->(u, v, d),  下采样后特征图\n",
    "    return frustum"
   ]
  },
  {
   "cell_type": "code",
   "execution_count": 7,
   "metadata": {},
   "outputs": [],
   "source": [
    "frustum = create_frustum([1.0, 60.0, 1.0], [256, 704], 16)"
   ]
  },
  {
   "cell_type": "code",
   "execution_count": 9,
   "metadata": {},
   "outputs": [
    {
     "name": "stdout",
     "output_type": "stream",
     "text": [
      "tensor([523.1628, 238.0000,  33.0000])\n",
      "tensor([196.1860,  68.0000,  13.0000])\n",
      "tensor([310.6279, 221.0000,   3.0000])\n",
      "tensor([703.,  17.,  55.])\n"
     ]
    }
   ],
   "source": [
    "print(frustum[32][14][32])\n",
    "print(frustum[12][4][12])\n",
    "print(frustum[2][13][19])\n",
    "print(frustum[54][1][43])\n",
    "\n"
   ]
  },
  {
   "cell_type": "code",
   "execution_count": 18,
   "metadata": {},
   "outputs": [
    {
     "name": "stdout",
     "output_type": "stream",
     "text": [
      "tensor([[1., 2., 3.],\n",
      "        [4., 5., 6.],\n",
      "        [7., 8., 9.]])\n",
      "torch.Size([3, 1])\n",
      "tensor([[17.],\n",
      "        [47.],\n",
      "        [77.]])\n"
     ]
    }
   ],
   "source": [
    "a = torch.arange(1, 10, 1,dtype=torch.float).view(3,3)\n",
    "print(a)\n",
    "b = torch.tensor([4,5,1.]).unsqueeze(-1)\n",
    "print(b.size())\n",
    "c = a.matmul(b)\n",
    "print(c)"
   ]
  },
  {
   "cell_type": "code",
   "execution_count": null,
   "metadata": {},
   "outputs": [],
   "source": []
  }
 ],
 "metadata": {
  "kernelspec": {
   "display_name": "bevdeploy",
   "language": "python",
   "name": "python3"
  },
  "language_info": {
   "codemirror_mode": {
    "name": "ipython",
    "version": 3
   },
   "file_extension": ".py",
   "mimetype": "text/x-python",
   "name": "python",
   "nbconvert_exporter": "python",
   "pygments_lexer": "ipython3",
   "version": "3.7.15"
  },
  "orig_nbformat": 4
 },
 "nbformat": 4,
 "nbformat_minor": 2
}
